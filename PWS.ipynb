{
 "cells": [
  {
   "cell_type": "code",
   "execution_count": 36,
   "metadata": {},
   "outputs": [],
   "source": [
    "import pandas as pd\n",
    "from os import listdir\n",
    "from os.path import isfile, join\n",
    "import matplotlib.pyplot as plt"
   ]
  },
  {
   "cell_type": "code",
   "execution_count": 3,
   "metadata": {},
   "outputs": [
    {
     "data": {
      "text/plain": [
       "['Drinking Water Watch Dataset.xlsx',\n",
       " 'Public Potable Water Systems FINAL 06-22-2018_0.csv',\n",
       " 'uw_self-cert_submittals.xlsx']"
      ]
     },
     "execution_count": 3,
     "metadata": {},
     "output_type": "execute_result"
    }
   ],
   "source": [
    "onlyfiles = [f for f in listdir(\"spreadsheets/\") if isfile(join(\"spreadsheets/\", f))]\n",
    "onlyfiles"
   ]
  },
  {
   "cell_type": "code",
   "execution_count": 4,
   "metadata": {},
   "outputs": [
    {
     "name": "stdout",
     "output_type": "stream",
     "text": [
      "Public Potable Water Systems FINAL 06-22-2018_0.csv\n"
     ]
    }
   ],
   "source": [
    "allfiles = {}\n",
    "for a in onlyfiles:\n",
    "    if \".xlsx\" in a:\n",
    "        allfiles[a.split(' ', 1)[0]] = pd.ExcelFile(\"spreadsheets/\" + a)\n",
    "    if \".csv\" in a:\n",
    "        print(a)\n",
    "        allfiles[a.split(' ', 1)[0]] = pd.read_csv(\"spreadsheets/\" + a, encoding='ISO-8859-1')"
   ]
  },
  {
   "cell_type": "code",
   "execution_count": 5,
   "metadata": {},
   "outputs": [
    {
     "name": "stdout",
     "output_type": "stream",
     "text": [
      "dict_keys(['Drinking', 'Public', 'uw_self-cert_submittals.xlsx'])\n"
     ]
    }
   ],
   "source": [
    "alldata = {}\n",
    "for key, b in allfiles.items():\n",
    "    if type(b) is pd.ExcelFile:\n",
    "        alldata[key] = {}\n",
    "        for a in b.sheet_names:\n",
    "            alldata[key][a] = b.parse(a)\n",
    "    if type(b) is pd.DataFrame:\n",
    "        alldata[key] = {}\n",
    "        alldata[key][key] = b\n",
    "print(alldata.keys())"
   ]
  },
  {
   "cell_type": "code",
   "execution_count": 22,
   "metadata": {},
   "outputs": [],
   "source": [
    "a = alldata['Drinking'][\"Table3_AllWellLocations\"]\n",
    "b = alldata[\"Public\"]['Public']"
   ]
  },
  {
   "cell_type": "code",
   "execution_count": 23,
   "metadata": {},
   "outputs": [],
   "source": [
    "c = a.merge(b, left_on='WATER_SYSTEM_NO', right_on='Water System No ')"
   ]
  },
  {
   "cell_type": "code",
   "execution_count": 35,
   "metadata": {},
   "outputs": [
    {
     "data": {
      "text/plain": [
       "Index(['REG_AGENCY', 'WATER_SYSTEM_NO', 'PWS_NAME', 'SYSTEM_ACTIVITY_STATUS',\n",
       "       'FACILITY_NAME', 'WSF_Activity', 'WSF_ID', 'WSF_Type',\n",
       "       'LATITUDE_MEASURE', 'LONGITUDE_MEASURE', 'Water System No ',\n",
       "       'Water System Name', 'Principal County Served',\n",
       "       'Federal Water System Type -CODE', 'Federal Water System Type ',\n",
       "       'State Water System Type -CODE', 'State Water System Type',\n",
       "       'Water System Status -CODE', 'Water System Status', 'Owner Type -CODE',\n",
       "       'Owner Type', 'Primary Water Source Type -CODE',\n",
       "       'Primary Water Source Type', 'Residential Population',\n",
       "       'Non Transient Population', 'Transient Population', 'Total Population',\n",
       "       'Number of Service Connections Agricultural',\n",
       "       'Number of COMBINED Service Connections (CB)',\n",
       "       'Number of Commercial (CM) Service Connections',\n",
       "       'Numer of Institutional Service Conections',\n",
       "       'Number of Residential Service Connections',\n",
       "       'Total Number of Service Connections', 'Fee Code',\n",
       "       'Fee Code Description',\n",
       "       'Date of Sanitary Survey visit (SNSV Visit Date)', 'CITY',\n",
       "       'Treatment Plant Class-CODE', 'Treatment Plant Class',\n",
       "       'Distribution System Class-CODE', 'Distribution System Class'],\n",
       "      dtype='object')"
      ]
     },
     "execution_count": 35,
     "metadata": {},
     "output_type": "execute_result"
    }
   ],
   "source": [
    "c.keys()"
   ]
  },
  {
   "cell_type": "code",
   "execution_count": 38,
   "metadata": {},
   "outputs": [
    {
     "data": {
      "image/png": "[encoded data removed]",
      "text/plain": [
       "<Figure size 432x288 with 1 Axes>"
      ]
     },
     "metadata": {
      "needs_background": "light"
     },
     "output_type": "display_data"
    }
   ],
   "source": [
    "plt.scatter(c[\"LATITUDE_MEASURE\"], c[\"LONGITUDE_MEASURE\"])\n",
    "plt.show()"
   ]
  },
  {
   "cell_type": "code",
   "execution_count": null,
   "metadata": {},
   "outputs": [],
   "source": []
  }
 ],
 "metadata": {
  "kernelspec": {
   "display_name": "Python 3",
   "language": "python",
   "name": "python3"
  },
  "language_info": {
   "codemirror_mode": {
    "name": "ipython",
    "version": 3
   },
   "file_extension": ".py",
   "mimetype": "text/x-python",
   "name": "python",
   "nbconvert_exporter": "python",
   "pygments_lexer": "ipython3",
   "version": "3.6.5"
  }
 },
 "nbformat": 4,
 "nbformat_minor": 2
}
